{
 "cells": [
  {
   "cell_type": "code",
   "execution_count": 15,
   "id": "2d373c3e",
   "metadata": {},
   "outputs": [],
   "source": [
    "import pandas as pd\n",
    "import plotly.express as px\n",
    "import streamlit as st"
   ]
  },
  {
   "cell_type": "code",
   "execution_count": 16,
   "id": "0525ba5f",
   "metadata": {},
   "outputs": [],
   "source": [
    "car_data = pd.read_csv(r'C:\\Users\\raulr\\OneDrive\\Documentos\\GitHub\\proyecto-7\\vehicles_us.csv') # leer los datos"
   ]
  },
  {
   "cell_type": "code",
   "execution_count": 17,
   "id": "5902cdc6",
   "metadata": {},
   "outputs": [
    {
     "name": "stderr",
     "output_type": "stream",
     "text": [
      "2025-05-31 04:07:40.645 WARNING streamlit.runtime.scriptrunner_utils.script_run_context: Thread 'MainThread': missing ScriptRunContext! This warning can be ignored when running in bare mode.\n",
      "2025-05-31 04:07:40.792 \n",
      "  \u001b[33m\u001b[1mWarning:\u001b[0m to view this Streamlit app on a browser, run it with the following\n",
      "  command:\n",
      "\n",
      "    streamlit run C:\\Users\\raulr\\AppData\\Roaming\\Python\\Python313\\site-packages\\ipykernel_launcher.py [ARGUMENTS]\n",
      "2025-05-31 04:07:40.793 Thread 'MainThread': missing ScriptRunContext! This warning can be ignored when running in bare mode.\n"
     ]
    },
    {
     "ename": "ImportError",
     "evalue": "DLL load failed while importing lib: The specified procedure could not be found.",
     "output_type": "error",
     "traceback": [
      "\u001b[31m---------------------------------------------------------------------------\u001b[39m",
      "\u001b[31mImportError\u001b[39m                               Traceback (most recent call last)",
      "\u001b[36mCell\u001b[39m\u001b[36m \u001b[39m\u001b[32mIn[17]\u001b[39m\u001b[32m, line 3\u001b[39m\n\u001b[32m      1\u001b[39m \u001b[38;5;66;03m# Mostrar una vista previa\u001b[39;00m\n\u001b[32m      2\u001b[39m st.subheader(\u001b[33m\"\u001b[39m\u001b[33mVista previa del conjunto de datos\u001b[39m\u001b[33m\"\u001b[39m)\n\u001b[32m----> \u001b[39m\u001b[32m3\u001b[39m \u001b[43mst\u001b[49m\u001b[43m.\u001b[49m\u001b[43mwrite\u001b[49m\u001b[43m(\u001b[49m\u001b[43mcar_data\u001b[49m\u001b[43m.\u001b[49m\u001b[43mhead\u001b[49m\u001b[43m(\u001b[49m\u001b[43m)\u001b[49m\u001b[43m)\u001b[49m\n",
      "\u001b[36mFile \u001b[39m\u001b[32mc:\\Users\\raulr\\anaconda3\\envs\\proyecto-7\\Lib\\site-packages\\streamlit\\runtime\\metrics_util.py:444\u001b[39m, in \u001b[36mgather_metrics.<locals>.wrapped_func\u001b[39m\u001b[34m(*args, **kwargs)\u001b[39m\n\u001b[32m    442\u001b[39m         _LOGGER.debug(\u001b[33m\"\u001b[39m\u001b[33mFailed to collect command telemetry\u001b[39m\u001b[33m\"\u001b[39m, exc_info=ex)\n\u001b[32m    443\u001b[39m \u001b[38;5;28;01mtry\u001b[39;00m:\n\u001b[32m--> \u001b[39m\u001b[32m444\u001b[39m     result = \u001b[43mnon_optional_func\u001b[49m\u001b[43m(\u001b[49m\u001b[43m*\u001b[49m\u001b[43margs\u001b[49m\u001b[43m,\u001b[49m\u001b[43m \u001b[49m\u001b[43m*\u001b[49m\u001b[43m*\u001b[49m\u001b[43mkwargs\u001b[49m\u001b[43m)\u001b[49m\n\u001b[32m    445\u001b[39m \u001b[38;5;28;01mexcept\u001b[39;00m RerunException \u001b[38;5;28;01mas\u001b[39;00m ex:\n\u001b[32m    446\u001b[39m     \u001b[38;5;66;03m# Duplicated from below, because static analysis tools get confused\u001b[39;00m\n\u001b[32m    447\u001b[39m     \u001b[38;5;66;03m# by deferring the rethrow.\u001b[39;00m\n\u001b[32m    448\u001b[39m     \u001b[38;5;28;01mif\u001b[39;00m tracking_activated \u001b[38;5;129;01mand\u001b[39;00m command_telemetry:\n",
      "\u001b[36mFile \u001b[39m\u001b[32mc:\\Users\\raulr\\anaconda3\\envs\\proyecto-7\\Lib\\site-packages\\streamlit\\elements\\write.py:461\u001b[39m, in \u001b[36mWriteMixin.write\u001b[39m\u001b[34m(self, unsafe_allow_html, *args, **kwargs)\u001b[39m\n\u001b[32m    459\u001b[39m     flush_buffer()\n\u001b[32m    460\u001b[39m     \u001b[38;5;28mself\u001b[39m.dg.help(arg)\n\u001b[32m--> \u001b[39m\u001b[32m461\u001b[39m \u001b[38;5;28;01melif\u001b[39;00m \u001b[43mdataframe_util\u001b[49m\u001b[43m.\u001b[49m\u001b[43mis_dataframe_like\u001b[49m\u001b[43m(\u001b[49m\u001b[43marg\u001b[49m\u001b[43m)\u001b[49m:\n\u001b[32m    462\u001b[39m     flush_buffer()\n\u001b[32m    463\u001b[39m     \u001b[38;5;28mself\u001b[39m.dg.dataframe(arg)\n",
      "\u001b[36mFile \u001b[39m\u001b[32mc:\\Users\\raulr\\anaconda3\\envs\\proyecto-7\\Lib\\site-packages\\streamlit\\dataframe_util.py:295\u001b[39m, in \u001b[36mis_dataframe_like\u001b[39m\u001b[34m(obj)\u001b[39m\n\u001b[32m    290\u001b[39m \u001b[38;5;28;01mif\u001b[39;00m obj \u001b[38;5;129;01mis\u001b[39;00m \u001b[38;5;28;01mNone\u001b[39;00m \u001b[38;5;129;01mor\u001b[39;00m \u001b[38;5;28misinstance\u001b[39m(obj, (\u001b[38;5;28mtuple\u001b[39m, \u001b[38;5;28mset\u001b[39m, \u001b[38;5;28mstr\u001b[39m, \u001b[38;5;28mbytes\u001b[39m, \u001b[38;5;28mint\u001b[39m, \u001b[38;5;28mfloat\u001b[39m, \u001b[38;5;28mbool\u001b[39m)):\n\u001b[32m    291\u001b[39m     \u001b[38;5;66;03m# Basic types are not considered dataframe-like, so we can\u001b[39;00m\n\u001b[32m    292\u001b[39m     \u001b[38;5;66;03m# return False early to avoid unnecessary checks.\u001b[39;00m\n\u001b[32m    293\u001b[39m     \u001b[38;5;28;01mreturn\u001b[39;00m \u001b[38;5;28;01mFalse\u001b[39;00m\n\u001b[32m--> \u001b[39m\u001b[32m295\u001b[39m \u001b[38;5;28;01mreturn\u001b[39;00m \u001b[43mdetermine_data_format\u001b[49m\u001b[43m(\u001b[49m\u001b[43mobj\u001b[49m\u001b[43m)\u001b[49m \u001b[38;5;129;01min\u001b[39;00m {\n\u001b[32m    296\u001b[39m     DataFormat.COLUMN_SERIES_MAPPING,\n\u001b[32m    297\u001b[39m     DataFormat.DASK_OBJECT,\n\u001b[32m    298\u001b[39m     DataFormat.DBAPI_CURSOR,\n\u001b[32m    299\u001b[39m     DataFormat.MODIN_OBJECT,\n\u001b[32m    300\u001b[39m     DataFormat.NUMPY_LIST,\n\u001b[32m    301\u001b[39m     DataFormat.NUMPY_MATRIX,\n\u001b[32m    302\u001b[39m     DataFormat.PANDAS_ARRAY,\n\u001b[32m    303\u001b[39m     DataFormat.PANDAS_DATAFRAME,\n\u001b[32m    304\u001b[39m     DataFormat.PANDAS_INDEX,\n\u001b[32m    305\u001b[39m     DataFormat.PANDAS_SERIES,\n\u001b[32m    306\u001b[39m     DataFormat.PANDAS_STYLER,\n\u001b[32m    307\u001b[39m     DataFormat.POLARS_DATAFRAME,\n\u001b[32m    308\u001b[39m     DataFormat.POLARS_LAZYFRAME,\n\u001b[32m    309\u001b[39m     DataFormat.POLARS_SERIES,\n\u001b[32m    310\u001b[39m     DataFormat.PYARROW_ARRAY,\n\u001b[32m    311\u001b[39m     DataFormat.PYARROW_TABLE,\n\u001b[32m    312\u001b[39m     DataFormat.PYSPARK_OBJECT,\n\u001b[32m    313\u001b[39m     DataFormat.RAY_DATASET,\n\u001b[32m    314\u001b[39m     DataFormat.SNOWPANDAS_OBJECT,\n\u001b[32m    315\u001b[39m     DataFormat.SNOWPARK_OBJECT,\n\u001b[32m    316\u001b[39m     DataFormat.XARRAY_DATASET,\n\u001b[32m    317\u001b[39m     DataFormat.XARRAY_DATA_ARRAY,\n\u001b[32m    318\u001b[39m }\n",
      "\u001b[36mFile \u001b[39m\u001b[32mc:\\Users\\raulr\\anaconda3\\envs\\proyecto-7\\Lib\\site-packages\\streamlit\\dataframe_util.py:1163\u001b[39m, in \u001b[36mdetermine_data_format\u001b[39m\u001b[34m(input_data)\u001b[39m\n\u001b[32m   1161\u001b[39m \u001b[38;5;28;01mimport\u001b[39;00m\u001b[38;5;250m \u001b[39m\u001b[34;01mnumpy\u001b[39;00m\u001b[38;5;250m \u001b[39m\u001b[38;5;28;01mas\u001b[39;00m\u001b[38;5;250m \u001b[39m\u001b[34;01mnp\u001b[39;00m\n\u001b[32m   1162\u001b[39m \u001b[38;5;28;01mimport\u001b[39;00m\u001b[38;5;250m \u001b[39m\u001b[34;01mpandas\u001b[39;00m\u001b[38;5;250m \u001b[39m\u001b[38;5;28;01mas\u001b[39;00m\u001b[38;5;250m \u001b[39m\u001b[34;01mpd\u001b[39;00m\n\u001b[32m-> \u001b[39m\u001b[32m1163\u001b[39m \u001b[38;5;28;01mimport\u001b[39;00m\u001b[38;5;250m \u001b[39m\u001b[34;01mpyarrow\u001b[39;00m\u001b[38;5;250m \u001b[39m\u001b[38;5;28;01mas\u001b[39;00m\u001b[38;5;250m \u001b[39m\u001b[34;01mpa\u001b[39;00m\n\u001b[32m   1165\u001b[39m \u001b[38;5;28;01mif\u001b[39;00m input_data \u001b[38;5;129;01mis\u001b[39;00m \u001b[38;5;28;01mNone\u001b[39;00m:\n\u001b[32m   1166\u001b[39m     \u001b[38;5;28;01mreturn\u001b[39;00m DataFormat.EMPTY\n",
      "\u001b[36mFile \u001b[39m\u001b[32mc:\\Users\\raulr\\anaconda3\\envs\\proyecto-7\\Lib\\site-packages\\pyarrow\\__init__.py:65\u001b[39m\n\u001b[32m     63\u001b[39m _gc_enabled = _gc.isenabled()\n\u001b[32m     64\u001b[39m _gc.disable()\n\u001b[32m---> \u001b[39m\u001b[32m65\u001b[39m \u001b[38;5;28;01mimport\u001b[39;00m\u001b[38;5;250m \u001b[39m\u001b[34;01mpyarrow\u001b[39;00m\u001b[34;01m.\u001b[39;00m\u001b[34;01mlib\u001b[39;00m\u001b[38;5;250m \u001b[39m\u001b[38;5;28;01mas\u001b[39;00m\u001b[38;5;250m \u001b[39m\u001b[34;01m_lib\u001b[39;00m\n\u001b[32m     66\u001b[39m \u001b[38;5;28;01mif\u001b[39;00m _gc_enabled:\n\u001b[32m     67\u001b[39m     _gc.enable()\n",
      "\u001b[31mImportError\u001b[39m: DLL load failed while importing lib: The specified procedure could not be found."
     ]
    }
   ],
   "source": [
    "# Mostrar una vista previa\n",
    "st.subheader(\"Vista previa del conjunto de datos\")\n",
    "st.write(car_data.head())"
   ]
  },
  {
   "cell_type": "code",
   "execution_count": null,
   "id": "a13fa66f",
   "metadata": {},
   "outputs": [],
   "source": [
    "# Botón para gráfico de dispersión\n",
    "if st.button(\"Mostrar gráfico de dispersión\"):\n",
    "    fig = px.scatter(car_data, x=\"odometer\", y=\"price\", color=\"type\",\n",
    "                     title=\"Relación entre kilometraje y precio por tipo de vehículo\",\n",
    "                     labels={\"odometer\": \"Kilometraje\", \"price\": \"Precio\"})\n",
    "    st.plotly_chart(fig)\n",
    "\n",
    "# Casilla de verificación para mostrar histograma de marcas\n",
    "if st.checkbox(\"Mostrar histograma de anuncios por marca\"):\n",
    "    marca_counts = car_data['manufacturer'].value_counts().reset_index()\n",
    "    marca_counts.columns = ['manufacturer', 'count']\n",
    "\n",
    "    fig_hist = px.bar(marca_counts, x='manufacturer', y='count',\n",
    "                      title=\"Cantidad de anuncios por marca de coche\",\n",
    "                      labels={'manufacturer': 'Marca', 'count': 'Número de anuncios'})\n",
    "    st.plotly_chart(fig_hist)"
   ]
  },
  {
   "cell_type": "code",
   "execution_count": null,
   "id": "97d5b9ff",
   "metadata": {},
   "outputs": [],
   "source": []
  },
  {
   "cell_type": "code",
   "execution_count": null,
   "id": "c071284a",
   "metadata": {},
   "outputs": [],
   "source": []
  },
  {
   "cell_type": "code",
   "execution_count": null,
   "id": "599e0fc9",
   "metadata": {},
   "outputs": [],
   "source": []
  }
 ],
 "metadata": {
  "kernelspec": {
   "display_name": "proyecto-7",
   "language": "python",
   "name": "python3"
  },
  "language_info": {
   "codemirror_mode": {
    "name": "ipython",
    "version": 3
   },
   "file_extension": ".py",
   "mimetype": "text/x-python",
   "name": "python",
   "nbconvert_exporter": "python",
   "pygments_lexer": "ipython3",
   "version": "3.13.2"
  }
 },
 "nbformat": 4,
 "nbformat_minor": 5
}
